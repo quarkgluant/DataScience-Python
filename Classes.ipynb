{
 "cells": [
  {
   "cell_type": "markdown",
   "metadata": {},
   "source": [
    "## Objets et Classes"
   ]
  },
  {
   "cell_type": "code",
   "execution_count": 1,
   "metadata": {},
   "outputs": [
    {
     "name": "stdout",
     "output_type": "stream",
     "text": [
      "Real Madrid\n"
     ]
    }
   ],
   "source": [
    "class Team():\n",
    "    def __init__(self, name):\n",
    "        self.name = name\n",
    "        \n",
    "    def print_name(self):\n",
    "        print(self.name)\n",
    "        \n",
    "madrid = Team(\"Real Madrid\")\n",
    "madrid.print_name()"
   ]
  },
  {
   "cell_type": "code",
   "execution_count": 2,
   "metadata": {},
   "outputs": [
    {
     "name": "stdout",
     "output_type": "stream",
     "text": [
      "46\n"
     ]
    }
   ],
   "source": [
    "import csv\n",
    "\n",
    "f = open(\"nfl.csv\")\n",
    "nfl = list(csv.reader(f))\n",
    "\n",
    "class Team():\n",
    "    def __init__(self, name):\n",
    "        self.name = name\n",
    "        \n",
    "    def print_name(self):\n",
    "        print(self.name)\n",
    "        \n",
    "    def count_total_wins(self):\n",
    "        count = 0\n",
    "        for row in nfl:\n",
    "            if row[2] == self.name:\n",
    "                count += 1\n",
    "        return(count)\n",
    "    \n",
    "broncos = Team('Denver Broncos')\n",
    "print(broncos.count_total_wins())"
   ]
  },
  {
   "cell_type": "markdown",
   "metadata": {},
   "source": [
    "### Training\n",
    "#### Améliorons la méthode d'instance __init__ pour qu'elle lise le fichier nfl.csv dès la création d'une instance"
   ]
  },
  {
   "cell_type": "code",
   "execution_count": 5,
   "metadata": {},
   "outputs": [
    {
     "name": "stdout",
     "output_type": "stream",
     "text": [
      "46\n",
      "51\n"
     ]
    }
   ],
   "source": [
    "import csv\n",
    "\n",
    "class Team():\n",
    "    def __init__(self, name):\n",
    "        self.name = name\n",
    "        f = open(\"nfl.csv\")\n",
    "        self.nfl = list(csv.reader(f))\n",
    "        \n",
    "    def print_name(self):\n",
    "        print(self.name)\n",
    "        \n",
    "    def count_total_wins(self):\n",
    "        count = 0\n",
    "        for row in self.nfl:\n",
    "            if row[2] == self.name:\n",
    "                count += 1\n",
    "        return(count)\n",
    "    \n",
    "broncos = Team('Denver Broncos')\n",
    "print(broncos.count_total_wins())\n",
    "\n",
    "sf = Team('San Francisco 49ers')\n",
    "print(sf.count_total_wins())"
   ]
  },
  {
   "cell_type": "markdown",
   "metadata": {},
   "source": [
    "### training\n",
    "#### Rajoutons une méthode d'instance count_wins_in_year() pour comptabiliser le nombre de victoires durant une année donnée"
   ]
  },
  {
   "cell_type": "code",
   "execution_count": 6,
   "metadata": {},
   "outputs": [
    {
     "name": "stdout",
     "output_type": "stream",
     "text": [
      "12\n"
     ]
    }
   ],
   "source": [
    "import csv\n",
    "\n",
    "class Team():\n",
    "    def __init__(self, name):\n",
    "        self.name = name\n",
    "        f = open(\"nfl.csv\")\n",
    "        self.nfl = list(csv.reader(f))\n",
    "        \n",
    "    def print_name(self):\n",
    "        print(self.name)\n",
    "        \n",
    "    def count_total_wins(self):\n",
    "        count = 0\n",
    "        for row in self.nfl:\n",
    "            if row[2] == self.name:\n",
    "                count += 1\n",
    "        return(count)\n",
    "    \n",
    "    def count_wins_in_year(self, year):\n",
    "        count = 0\n",
    "        for row in self.nfl:\n",
    "            if row[2] == self.name and row[0] == year:\n",
    "                count += 1\n",
    "        return(count)        \n",
    "\n",
    "\n",
    "sf = Team('San Francisco 49ers')\n",
    "print(sf.count_wins_in_year('2013'))"
   ]
  }
 ],
 "metadata": {
  "kernelspec": {
   "display_name": "Python 3",
   "language": "python",
   "name": "python3"
  },
  "language_info": {
   "codemirror_mode": {
    "name": "ipython",
    "version": 3
   },
   "file_extension": ".py",
   "mimetype": "text/x-python",
   "name": "python",
   "nbconvert_exporter": "python",
   "pygments_lexer": "ipython3",
   "version": "3.6.8"
  }
 },
 "nbformat": 4,
 "nbformat_minor": 2
}
