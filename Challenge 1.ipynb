{
 "cells": [
  {
   "cell_type": "code",
   "execution_count": 8,
   "metadata": {},
   "outputs": [
    {
     "name": "stdout",
     "output_type": "stream",
     "text": [
      "['Casey', 'Riley', 'Jessie', 'Jackie', 'Avery', 'Jaime', 'Peyton', 'Kerry', 'Jody', 'Kendall']\n"
     ]
    }
   ],
   "source": [
    "f = open(\"unisex-names.csv\", \"r\")\n",
    "names = f.read()\n",
    "names_list = names.split('\\n')\n",
    "# print(names_list[:10])\n",
    "\n",
    "names_data = []\n",
    "for row in names_list:\n",
    "    names_data.append(row.split(','))\n",
    "    \n",
    "numerical_list = []\n",
    "for item in names_data:\n",
    "#    print(float(item[-1]))\n",
    "    numerical_list.append([item[0], float(item[-1])])\n",
    "\n",
    "# print(numerical_list)\n",
    "final_list = []\n",
    "for item in numerical_list:\n",
    "    if item[-1] > 1000:\n",
    "        final_list.append(item[0])\n",
    "        \n",
    "print(final_list[:10])"
   ]
  }
 ],
 "metadata": {
  "kernelspec": {
   "display_name": "Python 3",
   "language": "python",
   "name": "python3"
  },
  "language_info": {
   "codemirror_mode": {
    "name": "ipython",
    "version": 3
   },
   "file_extension": ".py",
   "mimetype": "text/x-python",
   "name": "python",
   "nbconvert_exporter": "python",
   "pygments_lexer": "ipython3",
   "version": "3.6.8"
  }
 },
 "nbformat": 4,
 "nbformat_minor": 2
}
