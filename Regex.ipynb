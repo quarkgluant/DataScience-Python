{
 "cells": [
  {
   "cell_type": "markdown",
   "metadata": {},
   "source": [
    "## Les expresions régulières\n",
    "### Introduction Dataset"
   ]
  },
  {
   "cell_type": "code",
   "execution_count": 1,
   "metadata": {
    "scrolled": true
   },
   "outputs": [
    {
     "data": {
      "text/plain": [
       "[['Title', 'Score', 'Time', 'Gold', 'NumComs'],\n",
       " ['What\\'s your internet \"white whale\", something you\\'ve been searching for years to find with no luck?',\n",
       "  '11510',\n",
       "  '1433213314.0',\n",
       "  '1',\n",
       "  '26195'],\n",
       " [\"What's your favorite video that is 10 seconds or less?\",\n",
       "  '8656',\n",
       "  '1434205517.0',\n",
       "  '4',\n",
       "  '8479'],\n",
       " ['What are some interesting tests you can take to find out about yourself?',\n",
       "  '8480',\n",
       "  '1443409636.0',\n",
       "  '1',\n",
       "  '4055'],\n",
       " [\"PhD's of Reddit. What is a dumbed down summary of your thesis?\",\n",
       "  '7927',\n",
       "  '1440188623.0',\n",
       "  '0',\n",
       "  '13201'],\n",
       " ['What is cool to be good at, yet uncool to be REALLY good at?',\n",
       "  '7711',\n",
       "  '1440082910.0',\n",
       "  '0',\n",
       "  '20325'],\n",
       " ['[Serious] Redditors currently in a relationship, besides dinner and a movie, what are your favorite activities for date night?',\n",
       "  '7598',\n",
       "  '1439993280.0',\n",
       "  '2',\n",
       "  '5389'],\n",
       " [\"Parents of Reddit, what's something that your kid has done that you pretended to be angry about but secretly impressed or amused you?\",\n",
       "  '7553',\n",
       "  '1439161809.0',\n",
       "  '0',\n",
       "  '11520'],\n",
       " ['What is a good subreddit to binge read the All Time Top Posts of?',\n",
       "  '7498',\n",
       "  '1438822288.0',\n",
       "  '0',\n",
       "  '2780'],\n",
       " ['What would the person who named Walkie Talkies have named other items?',\n",
       "  '7501',\n",
       "  '1447904351.0',\n",
       "  '4',\n",
       "  '6720']]"
      ]
     },
     "execution_count": 1,
     "metadata": {},
     "output_type": "execute_result"
    }
   ],
   "source": [
    "import csv\n",
    "\n",
    "f = open(\"askreddit-2015.csv\", 'r', encoding='utf-8')\n",
    "posts = list(csv.reader(f))\n",
    "posts[:10]"
   ]
  },
  {
   "cell_type": "code",
   "execution_count": 2,
   "metadata": {
    "scrolled": true
   },
   "outputs": [
    {
     "name": "stdout",
     "output_type": "stream",
     "text": [
      "['What\\'s your internet \"white whale\", something you\\'ve been searching for years to find with no luck?', '11510', '1433213314.0', '1', '26195']\n",
      "[\"What's your favorite video that is 10 seconds or less?\", '8656', '1434205517.0', '4', '8479']\n",
      "['What are some interesting tests you can take to find out about yourself?', '8480', '1443409636.0', '1', '4055']\n",
      "[\"PhD's of Reddit. What is a dumbed down summary of your thesis?\", '7927', '1440188623.0', '0', '13201']\n",
      "['What is cool to be good at, yet uncool to be REALLY good at?', '7711', '1440082910.0', '0', '20325']\n",
      "['[Serious] Redditors currently in a relationship, besides dinner and a movie, what are your favorite activities for date night?', '7598', '1439993280.0', '2', '5389']\n",
      "[\"Parents of Reddit, what's something that your kid has done that you pretended to be angry about but secretly impressed or amused you?\", '7553', '1439161809.0', '0', '11520']\n",
      "['What is a good subreddit to binge read the All Time Top Posts of?', '7498', '1438822288.0', '0', '2780']\n",
      "['What would the person who named Walkie Talkies have named other items?', '7501', '1447904351.0', '4', '6720']\n",
      "[\"People who grew up in a different socioeconomic class as your significant others, what are the notable differences you've noticed and how does it affect your relationship (if at all)?\", '7419', '1440358069.0', '0', '8603']\n"
     ]
    }
   ],
   "source": [
    "posts = posts[1:]\n",
    "for post in posts[:10]:\n",
    "    print(post)"
   ]
  },
  {
   "cell_type": "markdown",
   "metadata": {},
   "source": [
    "### Compter les correspondances avec le module re()"
   ]
  },
  {
   "cell_type": "code",
   "execution_count": 7,
   "metadata": {},
   "outputs": [
    {
     "name": "stdout",
     "output_type": "stream",
     "text": [
      "il y a 76 occurences de la chaîne 'of Reddit'\n"
     ]
    }
   ],
   "source": [
    "# re.search(regex, string) => renvoie un objet \"match\" ou None\n",
    "# \"of Reddit\"\n",
    "import re\n",
    "\n",
    "of_reddit_count = 0\n",
    "for post in posts:\n",
    "    if re.search('of Reddit', post[0]) is not None:\n",
    "        of_reddit_count += 1\n",
    "        \n",
    "print(f\"il y a {of_reddit_count} occurences de la chaîne 'of Reddit'\")"
   ]
  },
  {
   "cell_type": "markdown",
   "metadata": {},
   "source": [
    "### Crochets pour matcher avec plusieurs lettres"
   ]
  },
  {
   "cell_type": "code",
   "execution_count": 8,
   "metadata": {},
   "outputs": [
    {
     "name": "stdout",
     "output_type": "stream",
     "text": [
      "il y a 102 occurences de la chaîne 'of Reddit'\n"
     ]
    }
   ],
   "source": [
    "import re\n",
    "\n",
    "of_reddit_count = 0\n",
    "for post in posts:\n",
    "    if re.search('of [rR]eddit', post[0]) is not None:\n",
    "        of_reddit_count += 1\n",
    "        \n",
    "print(f\"il y a {of_reddit_count} occurences de la chaîne 'of Reddit'\")"
   ]
  },
  {
   "cell_type": "markdown",
   "metadata": {},
   "source": [
    "### Ignorer des caractères spéciaux"
   ]
  },
  {
   "cell_type": "code",
   "execution_count": 10,
   "metadata": {},
   "outputs": [
    {
     "name": "stdout",
     "output_type": "stream",
     "text": [
      "il y a 69 occurences de la chaîne '[Serious]'\n"
     ]
    }
   ],
   "source": [
    "# [Serious]\n",
    "\n",
    "import re\n",
    "\n",
    "serious_count = 0\n",
    "for post in posts:\n",
    "    if re.search('\\[Serious\\]', post[0]) is not None:\n",
    "        serious_count += 1\n",
    "        \n",
    "print(f\"il y a {serious_count} occurences de la chaîne '[Serious]'\")\n",
    "\n"
   ]
  },
  {
   "cell_type": "markdown",
   "metadata": {},
   "source": [
    "### Amélioration de notre Regex"
   ]
  },
  {
   "cell_type": "code",
   "execution_count": 11,
   "metadata": {},
   "outputs": [
    {
     "name": "stdout",
     "output_type": "stream",
     "text": [
      "il y a 80 occurences \n"
     ]
    }
   ],
   "source": [
    "# Comptons les tags (Serious), (serious), [Serious] et [serious]\n",
    "\n",
    "import re\n",
    "\n",
    "serious_count = 0\n",
    "for post in posts:\n",
    "    if re.search('[\\(\\[][Ss]erious[\\]\\)]', post[0]) is not None:\n",
    "        serious_count += 1\n",
    "        \n",
    "print(f\"il y a {serious_count} occurences \")"
   ]
  },
  {
   "cell_type": "markdown",
   "metadata": {},
   "source": [
    "### Combiner plusieurs regex"
   ]
  },
  {
   "cell_type": "code",
   "execution_count": 13,
   "metadata": {},
   "outputs": [
    {
     "name": "stdout",
     "output_type": "stream",
     "text": [
      "il y a 69 occurences de Serious avec/sans majuscules crochets/parenthèses au début\n",
      "il y a 11 occurences de Serious avec/sans majuscules crochets/parenthèses à la fin\n",
      "il y a 80 occurences de Serious avec/sans majuscules crochets/parenthèses  au début ou à la fin\n"
     ]
    }
   ],
   "source": [
    "# Comptons les tags (Serious), (serious), [Serious] et [serious] au début du titre -> serious_start_count\n",
    "# Comptons les tags (Serious), (serious), [Serious] et [serious] en fin de titre -> serious_end_count\n",
    "# Comptons les tags (Serious), (serious), [Serious] et [serious] au débutou à la fin  du titre -> serious_count_final\n",
    "\n",
    "import re\n",
    "\n",
    "serious_start_count = 0\n",
    "serious_end_count = 0\n",
    "serious_count_final = 0\n",
    "for post in posts:\n",
    "    if re.search('^[\\(\\[][Ss]erious[\\]\\)]', post[0]) is not None:\n",
    "        serious_start_count += 1\n",
    "    if re.search('[\\(\\[][Ss]erious[\\]\\)]$', post[0]) is not None:\n",
    "        serious_end_count += 1\n",
    "    if re.search('^[\\(\\[][Ss]erious[\\]\\)]|[\\(\\[][Ss]erious[\\]\\)]$', post[0]) is not None:\n",
    "        serious_count_final += 1 \n",
    "        \n",
    "\n",
    "print(f\"il y a {serious_start_count} occurences de Serious avec/sans majuscules crochets/parenthèses au début\")        \n",
    "print(f\"il y a {serious_end_count} occurences de Serious avec/sans majuscules crochets/parenthèses à la fin\")\n",
    "print(f\"il y a {serious_count_final} occurences de Serious avec/sans majuscules crochets/parenthèses  au début ou à la fin\")"
   ]
  },
  {
   "cell_type": "markdown",
   "metadata": {},
   "source": [
    "### Modifier des chaînes de caractères avec regex"
   ]
  },
  {
   "cell_type": "code",
   "execution_count": 25,
   "metadata": {},
   "outputs": [
    {
     "name": "stdout",
     "output_type": "stream",
     "text": [
      "[['What\\'s your internet \"white whale\", something you\\'ve been searching for years to find with no luck?', '11510', '1433213314.0', '1', '26195'], [\"What's your favorite video that is 10 seconds or less?\", '8656', '1434205517.0', '4', '8479'], ['What are some interesting tests you can take to find out about yourself?', '8480', '1443409636.0', '1', '4055'], [\"PhD's of Reddit. What is a dumbed down summary of your thesis?\", '7927', '1440188623.0', '0', '13201'], ['What is cool to be good at, yet uncool to be REALLY good at?', '7711', '1440082910.0', '0', '20325'], ['[Serious] Redditors currently in a relationship, besides dinner and a movie, what are your favorite activities for date night?', '7598', '1439993280.0', '2', '5389'], [\"Parents of Reddit, what's something that your kid has done that you pretended to be angry about but secretly impressed or amused you?\", '7553', '1439161809.0', '0', '11520'], ['What is a good subreddit to binge read the All Time Top Posts of?', '7498', '1438822288.0', '0', '2780'], ['What would the person who named Walkie Talkies have named other items?', '7501', '1447904351.0', '4', '6720'], [\"People who grew up in a different socioeconomic class as your significant others, what are the notable differences you've noticed and how does it affect your relationship (if at all)?\", '7419', '1440358069.0', '0', '8603']]\n"
     ]
    }
   ],
   "source": [
    "# re.sub(regex, chaîne de remplacement, chaîne de travail)\n",
    "# remplaçons [serious], (serious) et (Serious) par [Serious]\n",
    "\n",
    "\n",
    "import re\n",
    "\n",
    "posts_new = []\n",
    "# Ici nous allons compiler la regex (même si ce n'est pas demandé) en vue de plus grande rapidité\n",
    "regex = re.compile('[\\(\\[][Ss]erious[\\]\\)]')\n",
    "for post in posts:\n",
    "    post[0] = re.sub(regex, '[Serious]', post[0])\n",
    "    posts_new.append(post)\n",
    "    \n",
    "#    else:\n",
    "#        new_post = post\n",
    "#    posts_new.append(new_post)\n",
    "    \n",
    "print(posts_new[:10])\n"
   ]
  },
  {
   "cell_type": "markdown",
   "metadata": {},
   "source": [
    "### Matcher les années avec une regex"
   ]
  },
  {
   "cell_type": "markdown",
   "metadata": {},
   "source": [
    "### Extraire toutes les années"
   ]
  },
  {
   "cell_type": "code",
   "execution_count": 29,
   "metadata": {},
   "outputs": [
    {
     "data": {
      "text/plain": [
       "['a', 'b', 'd']"
      ]
     },
     "execution_count": 29,
     "metadata": {},
     "output_type": "execute_result"
    }
   ],
   "source": [
    "# re.findall(regex, chaîne de travail)\n",
    "re.findall(\"[a-z]\", 'abd123')"
   ]
  },
  {
   "cell_type": "code",
   "execution_count": 28,
   "metadata": {},
   "outputs": [
    {
     "data": {
      "text/plain": [
       "['2019', '2018', '2020']"
      ]
     },
     "execution_count": 28,
     "metadata": {},
     "output_type": "execute_result"
    }
   ],
   "source": [
    "# Utilisons re.findall() pour générer une liste (years) de toutes les années entre 1000 et 2999 dans year_string\n",
    "\n",
    "year_string = 'On est déjà en 2019, une année de plus que 2018 et une de moins que 2020'\n",
    "years = re.findall(\"[12]\\d{3}\", year_string)\n",
    "years\n",
    "    "
   ]
  }
 ],
 "metadata": {
  "kernelspec": {
   "display_name": "Python 3",
   "language": "python",
   "name": "python3"
  },
  "language_info": {
   "codemirror_mode": {
    "name": "ipython",
    "version": 3
   },
   "file_extension": ".py",
   "mimetype": "text/x-python",
   "name": "python",
   "nbconvert_exporter": "python",
   "pygments_lexer": "ipython3",
   "version": "3.6.8"
  }
 },
 "nbformat": 4,
 "nbformat_minor": 2
}
