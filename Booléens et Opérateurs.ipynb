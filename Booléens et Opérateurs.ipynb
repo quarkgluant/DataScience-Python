{
 "cells": [
  {
   "cell_type": "markdown",
   "metadata": {},
   "source": [
    "### Training"
   ]
  },
  {
   "cell_type": "code",
   "execution_count": 2,
   "metadata": {},
   "outputs": [
    {
     "name": "stdout",
     "output_type": "stream",
     "text": [
      "[1098785, 1131812, 2035475, 1286908, 1556663, 1344579, 1617484, 1127333, 1060051, 1271938, 1382766, 1065894, 2640622, 2243739, 1497668, 1833002, 1400477, 1284107, 1582139, 1377511, 1221946, 1055745, 1449398]\n"
     ]
    }
   ],
   "source": [
    "f = open(\"departements-fr.csv\", \"r\", encoding=\"ISO-8859-1\")\n",
    "rows = f.read()\n",
    "data = rows.split('\\n')\n",
    "int_dep_populations = []\n",
    "for row in data:\n",
    "    row_split = row.split(',')\n",
    "    int_dep_populations.append(int(row_split[1]))\n",
    "    \n",
    "million_list = []\n",
    "for nb in int_dep_populations:\n",
    "    if nb > 1000000:\n",
    "        million_list.append(nb)\n",
    "        \n",
    "print(million_list)"
   ]
  }
 ],
 "metadata": {
  "kernelspec": {
   "display_name": "Python 3",
   "language": "python",
   "name": "python3"
  },
  "language_info": {
   "codemirror_mode": {
    "name": "ipython",
    "version": 3
   },
   "file_extension": ".py",
   "mimetype": "text/x-python",
   "name": "python",
   "nbconvert_exporter": "python",
   "pygments_lexer": "ipython3",
   "version": "3.6.8"
  }
 },
 "nbformat": 4,
 "nbformat_minor": 2
}
