{
 "cells": [
  {
   "cell_type": "markdown",
   "metadata": {},
   "source": [
    "## Introduction aux fonctions\n",
    "### Tokenization du vocabulaire"
   ]
  },
  {
   "cell_type": "code",
   "execution_count": 1,
   "metadata": {},
   "outputs": [
    {
     "data": {
      "text/plain": [
       "'à afin autant automatique automatisées autres aux bien calcul ces comme complexes compression connaissance considérée danalyse dans de den densembles des dincertitude discipline disjointes domaines données elle emploie en est et extraire formes généralement généraux haute informations informatique intéressantes la lanalytique lapprentissage larges le les lextraction limitée linformation lingénierie masse mathématiques méthodes modèles modélisation moins ne notamment objectif ou particulièrement pas performance plus plusieurs possible potentiellement premier principalement probabilistes produire programmation prophétique que qui reconnaissance sadaptent science signal soit sont source sources statistique stockage techniques technologie termes théorie théories tirées traitement tri utiles visualisation wikipédia'"
      ]
     },
     "execution_count": 1,
     "metadata": {},
     "output_type": "execute_result"
    }
   ],
   "source": [
    "vocabulary = open(\"dictionnaire.txt\", \"r\", encoding=\"utf-8\").read()\n",
    "vocabulary"
   ]
  },
  {
   "cell_type": "code",
   "execution_count": 2,
   "metadata": {},
   "outputs": [
    {
     "name": "stdout",
     "output_type": "stream",
     "text": [
      "['à', 'afin', 'autant', 'automatique', 'automatisées']\n"
     ]
    }
   ],
   "source": [
    "tokenized_vocabulary = vocabulary.split(' ')\n",
    "print(tokenized_vocabulary[:5])"
   ]
  },
  {
   "cell_type": "markdown",
   "metadata": {},
   "source": [
    "### Remplacement des caractères spéciaux"
   ]
  },
  {
   "cell_type": "code",
   "execution_count": 26,
   "metadata": {},
   "outputs": [
    {
     "name": "stdout",
     "output_type": "stream",
     "text": [
      "En termes généraux, la scence des données est l'extraction de conaissance d'ensembles de données.   \n",
      " \n",
      "Elle emploie des techniques et des théories tirées de plusieurs autres domaines plus larges des mathématiques, la statistique principalement, la téorie de l'information et la technologie de l'information, notamment le traitement de signal, des modèles probabilistes, l'apprentissage automatique, l'apprentissage statistiqe, la programmation informatique, l'ingénierie de données, la reconnaissance de formes et l'apprentissage, la visualisation, l'analytique prophétique, la modélisation d'incertitude, le stokage de données, la compression de données et le calcul à haute performance. \n",
      " \n",
      "Les méthodes qui s'adaptent aux données de masse sont particulièrement intéressantes dans la science des données, bien que la dicipline ne soit généralement pas considérée come limitée à ces données.   \n",
      " \n",
      "Le premier objectif est de produire des méthodes automatisées, autant que possible de tri et d'analyse de données de masse et de sources plus ou moins complexes ou disjointes de données, afin d'en extraire des informations utiles ou potentiellement utiles. Source Wikipédia\n"
     ]
    }
   ],
   "source": [
    "f = open(\"texte.txt\", \"r\", encoding=\"utf-8\")\n",
    "text_string = f.read()\n",
    "\n",
    "print(text_string)"
   ]
  },
  {
   "cell_type": "code",
   "execution_count": 11,
   "metadata": {},
   "outputs": [
    {
     "name": "stdout",
     "output_type": "stream",
     "text": [
      "En termes généraux  la scence des données est l extraction de conaissance d ensembles de données     Elle emploie des techniques et des théories tirées de plusieurs autres domaines plus larges des mathématiques  la statistique principalement  la téorie de l information et la technologie de l information  notamment le traitement de signal  des modèles probabilistes  l apprentissage automatique  l apprentissage statistiqe  la programmation informatique  l ingénierie de données  la reconnaissance de formes et l apprentissage  la visualisation  l analytique prophétique  la modélisation d incertitude  le stokage de données  la compression de données et le calcul à haute performance   Les méthodes qui s adaptent aux données de masse sont particulièrement intéressantes dans la science des données  bien que la dicipline ne soit généralement pas considérée come limitée à ces données     Le premier objectif est de produire des méthodes automatisées  autant que possible de tri et d analyse de données de masse et de sources plus ou moins complexes ou disjointes de données  afin d en extraire des informations utiles ou potentiellement utiles  Source Wikipédia\n"
     ]
    }
   ],
   "source": [
    "# replace(chaîne à supprimer, chaîne de remplacement)\n",
    "text_string = text_string.replace(',', '').replace('\\'', '').replace('.', '').replace('\\n', '')\n",
    "# .replace('é', 'e').replace('è', 'e')\n",
    "\n",
    "print(text_string)"
   ]
  },
  {
   "cell_type": "markdown",
   "metadata": {},
   "source": [
    "### Fonctions"
   ]
  },
  {
   "cell_type": "code",
   "execution_count": 13,
   "metadata": {},
   "outputs": [
    {
     "name": "stdout",
     "output_type": "stream",
     "text": [
      "En termes généraux la scence des données est lextraction de conaissance densembles de données    Elle emploie des techniques et des théories tirées de plusieurs autres domaines plus larges des mathématiques la statistique principalement la téorie de linformation et la technologie de linformation notamment le traitement de signal des modèles probabilistes lapprentissage automatique lapprentissage statistiqe la programmation informatique lingénierie de données la reconnaissance de formes et lapprentissage la visualisation lanalytique prophétique la modélisation dincertitude le stokage de données la compression de données et le calcul à haute performance  Les méthodes qui sadaptent aux données de masse sont particulièrement intéressantes dans la science des données bien que la dicipline ne soit généralement pas considérée come limitée à ces données    Le premier objectif est de produire des méthodes automatisées autant que possible de tri et danalyse de données de masse et de sources plus ou moins complexes ou disjointes de données afin den extraire des informations utiles ou potentiellement utiles Source Wikipédia\n"
     ]
    }
   ],
   "source": [
    "def clean_text(string_value):\n",
    "    cleaned_value = string_value.replace(',', '').replace('\\'', '').replace('.', '').replace('\\n', '')\n",
    "    return(cleaned_value)\n",
    "\n",
    "text_string_cleaned = clean_text(text_string)\n",
    "print(text_string_cleaned)"
   ]
  },
  {
   "cell_type": "markdown",
   "metadata": {},
   "source": [
    "### Changer les majuscules en minuscules"
   ]
  },
  {
   "cell_type": "code",
   "execution_count": 16,
   "metadata": {},
   "outputs": [
    {
     "name": "stdout",
     "output_type": "stream",
     "text": [
      "en termes généraux la scence des données est lextraction de conaissance densembles de données    elle emploie des techniques et des théories tirées de plusieurs autres domaines plus larges des mathématiques la statistique principalement la téorie de linformation et la technologie de linformation notamment le traitement de signal des modèles probabilistes lapprentissage automatique lapprentissage statistiqe la programmation informatique lingénierie de données la reconnaissance de formes et lapprentissage la visualisation lanalytique prophétique la modélisation dincertitude le stokage de données la compression de données et le calcul à haute performance  les méthodes qui sadaptent aux données de masse sont particulièrement intéressantes dans la science des données bien que la dicipline ne soit généralement pas considérée come limitée à ces données    le premier objectif est de produire des méthodes automatisées autant que possible de tri et danalyse de données de masse et de sources plus ou moins complexes ou disjointes de données afin den extraire des informations utiles ou potentiellement utiles source wikipédia\n"
     ]
    }
   ],
   "source": [
    "# .lower()\n",
    "def clean_text(string_value):\n",
    "    cleaned_value = string_value.replace(',', '').replace('\\'', '').replace('.', '').replace('\\n', '').lower()\n",
    "    return(cleaned_value)\n",
    "\n",
    "text_string_cleaned = clean_text(text_string)\n",
    "print(text_string_cleaned)"
   ]
  },
  {
   "cell_type": "markdown",
   "metadata": {},
   "source": [
    "### Arguments multiples"
   ]
  },
  {
   "cell_type": "code",
   "execution_count": null,
   "metadata": {},
   "outputs": [],
   "source": []
  },
  {
   "cell_type": "code",
   "execution_count": 23,
   "metadata": {},
   "outputs": [
    {
     "name": "stdout",
     "output_type": "stream",
     "text": [
      "en termes généraux la scence des données est lextraction de conaissance densembles de données    elle emploie des techniques et des théories tirées de plusieurs autres domaines plus larges des mathématiques la statistique principalement la téorie de linformation et la technologie de linformation notamment le traitement de signal des modèles probabilistes lapprentissage automatique lapprentissage statistiqe la programmation informatique lingénierie de données la reconnaissance de formes et lapprentissage la visualisation lanalytique prophétique la modélisation dincertitude le stokage de données la compression de données et le calcul à haute performance  les méthodes qui sadaptent aux données de masse sont particulièrement intéressantes dans la science des données bien que la dicipline ne soit généralement pas considérée come limitée à ces données    le premier objectif est de produire des méthodes automatisées autant que possible de tri et danalyse de données de masse et de sources plus ou moins complexes ou disjointes de données afin den extraire des informations utiles ou potentiellement utiles source wikipédia\n"
     ]
    }
   ],
   "source": [
    "def clean_text(string, special_characters, replacement_string):\n",
    "    cleaned_value = string\n",
    "    for char in special_characters:\n",
    "        cleaned_value = cleaned_value.replace(char, replacement_string)\n",
    "    cleaned_value = cleaned_value.lower()\n",
    "    return(cleaned_value)\n",
    "\n",
    "cleaned_text = clean_text(text_string, [',', '.', '\\'', '\\n'], '')\n",
    "print(cleaned_text)"
   ]
  },
  {
   "cell_type": "markdown",
   "metadata": {},
   "source": [
    "### Tokenization du fichier texte"
   ]
  },
  {
   "cell_type": "code",
   "execution_count": 27,
   "metadata": {},
   "outputs": [
    {
     "name": "stdout",
     "output_type": "stream",
     "text": [
      "['en', 'termes', 'généraux', 'la', 'scence', 'des', 'données', 'est', 'lextraction', 'de']\n"
     ]
    }
   ],
   "source": [
    "def tokenize(text, special_characters, replacement_string):\n",
    "    cleaned_text = clean_text(text, special_characters, replacement_string)\n",
    "    text_tokens = cleaned_text.split(' ')\n",
    "    return(text_tokens)\n",
    "\n",
    "tokenized_text = tokenize(text_string, [',', '.', '\\'', '\\n'], '')\n",
    "print(tokenized_text[:10])\n",
    "    "
   ]
  },
  {
   "cell_type": "markdown",
   "metadata": {},
   "source": [
    "### Trouver les mots mal orthographiés"
   ]
  },
  {
   "cell_type": "code",
   "execution_count": 28,
   "metadata": {},
   "outputs": [
    {
     "name": "stdout",
     "output_type": "stream",
     "text": [
      "['scence', 'conaissance', '', '', '', 'téorie', 'statistiqe', 'stokage', '', 'dicipline', 'come', '', '', '']\n"
     ]
    }
   ],
   "source": [
    "misspelled_words = []\n",
    "for word in tokenized_text:\n",
    "    if word not in tokenized_vocabulary:\n",
    "        misspelled_words.append(word)\n",
    "        \n",
    "print(misspelled_words)"
   ]
  },
  {
   "cell_type": "markdown",
   "metadata": {},
   "source": [
    "### Amélioration du correcteur orthographique"
   ]
  },
  {
   "cell_type": "code",
   "execution_count": 33,
   "metadata": {},
   "outputs": [
    {
     "name": "stdout",
     "output_type": "stream",
     "text": [
      "['scence', 'conaissance', 'téorie', 'statistiqe', 'stokage', 'dicipline', 'come']\n"
     ]
    }
   ],
   "source": [
    "def tokenize(text, special_characters, replacement_string, clean=False):\n",
    "    cleaned_text = text\n",
    "    if clean:\n",
    "        cleaned_text = clean_text(text, special_characters, replacement_string)    \n",
    "    text_tokens = cleaned_text.split(' ')\n",
    "    return(text_tokens)\n",
    "\n",
    "def spell_check(vocabulary_file, text_file, special_characters=[',', '.', '\\'', '\\n'], replacement_string=''):\n",
    "    misspelled_words = []\n",
    "    vocabulary = open(vocabulary_file, 'r', encoding='utf-8').read()\n",
    "    text = open(text_file, 'r', encoding='utf-8').read()\n",
    "    vocabulary_tokens = tokenize(vocabulary, special_characters, replacement_string)\n",
    "    text_tokens = tokenize(text, special_characters, replacement_string, True)\n",
    "    for token in text_tokens:\n",
    "        if token not in vocabulary_tokens and token != '':\n",
    "            misspelled_words.append(token)\n",
    "    return(misspelled_words)\n",
    "\n",
    "final_misspelled_words = spell_check(\"dictionnaire.txt\", \"texte.txt\")\n",
    "print(final_misspelled_words)"
   ]
  }
 ],
 "metadata": {
  "kernelspec": {
   "display_name": "Python 3",
   "language": "python",
   "name": "python3"
  },
  "language_info": {
   "codemirror_mode": {
    "name": "ipython",
    "version": 3
   },
   "file_extension": ".py",
   "mimetype": "text/x-python",
   "name": "python",
   "nbconvert_exporter": "python",
   "pygments_lexer": "ipython3",
   "version": "3.6.8"
  }
 },
 "nbformat": 4,
 "nbformat_minor": 2
}
