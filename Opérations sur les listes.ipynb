{
 "cells": [
  {
   "cell_type": "code",
   "execution_count": 4,
   "metadata": {},
   "outputs": [
    {
     "name": "stdout",
     "output_type": "stream",
     "text": [
      "[['Jour', 'Climat'], ['1', 'Soleil'], ['2', 'Soleil'], ['3', 'Soleil'], ['4', 'Soleil'], ['5', 'Soleil'], ['6', 'Pluie'], ['7', 'Soleil'], ['8', 'Soleil'], ['9', 'Nuage']]\n"
     ]
    }
   ],
   "source": [
    "weather_data = []\n",
    "\n",
    "f = open(\"madrid-weather-2016.csv\", 'r')\n",
    "data = f.read()\n",
    "rows = data.split('\\n')\n",
    "for row in rows:\n",
    "    split_row = row.split(',')\n",
    "    weather_data.append(split_row)\n",
    "    \n",
    "print(weather_data[:10])\n",
    "    \n"
   ]
  },
  {
   "cell_type": "code",
   "execution_count": 5,
   "metadata": {},
   "outputs": [
    {
     "name": "stdout",
     "output_type": "stream",
     "text": [
      "366\n"
     ]
    }
   ],
   "source": [
    "count = 0\n",
    "for item in weather_data:\n",
    "    count += 1\n",
    "    \n",
    "print(count)"
   ]
  },
  {
   "cell_type": "markdown",
   "metadata": {},
   "source": [
    "### Supprimer l'en-tête"
   ]
  },
  {
   "cell_type": "code",
   "execution_count": 6,
   "metadata": {},
   "outputs": [
    {
     "name": "stdout",
     "output_type": "stream",
     "text": [
      "[['1', 'Soleil'], ['2', 'Soleil'], ['3', 'Soleil'], ['4', 'Soleil'], ['5', 'Soleil'], ['6', 'Pluie'], ['7', 'Soleil'], ['8', 'Soleil'], ['9', 'Nuage'], ['10', 'Pluie']]\n"
     ]
    }
   ],
   "source": [
    "new_weather = weather_data[1:366]\n",
    "print(new_weather[:10])"
   ]
  },
  {
   "cell_type": "markdown",
   "metadata": {},
   "source": [
    "### Vérifier la présence d'un élèment dans une liste en une ligne"
   ]
  },
  {
   "cell_type": "code",
   "execution_count": 11,
   "metadata": {},
   "outputs": [
    {
     "name": "stdout",
     "output_type": "stream",
     "text": [
      "Il y a bien eu de l'éléctricité dans l'air !\n"
     ]
    }
   ],
   "source": [
    "for item in new_weather:\n",
    "    if 'Orage' in item:\n",
    "        print(\"Il y a bien eu de l'éléctricité dans l'air !\")"
   ]
  },
  {
   "cell_type": "markdown",
   "metadata": {},
   "source": [
    "### Training"
   ]
  },
  {
   "cell_type": "code",
   "execution_count": 18,
   "metadata": {},
   "outputs": [
    {
     "name": "stdout",
     "output_type": "stream",
     "text": [
      "[True, True, True, True, True, False]\n"
     ]
    }
   ],
   "source": [
    "weather_types = ['Pluie', 'Soleil', 'Nuage', 'Nuage-Pluie', 'Orage', 'Climat']\n",
    "weather = []\n",
    "for row in new_weather:\n",
    "    weather.append(row[1])\n",
    "    \n",
    "weather_type_found = []\n",
    "for meteo in weather_types:\n",
    "    found = meteo in weather\n",
    "    weather_type_found.append(found)\n",
    "    \n",
    "print(weather_type_found)"
   ]
  }
 ],
 "metadata": {
  "kernelspec": {
   "display_name": "Python 3",
   "language": "python",
   "name": "python3"
  },
  "language_info": {
   "codemirror_mode": {
    "name": "ipython",
    "version": 3
   },
   "file_extension": ".py",
   "mimetype": "text/x-python",
   "name": "python",
   "nbconvert_exporter": "python",
   "pygments_lexer": "ipython3",
   "version": "3.6.8"
  }
 },
 "nbformat": 4,
 "nbformat_minor": 2
}
