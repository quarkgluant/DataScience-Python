{
 "cells": [
  {
   "cell_type": "markdown",
   "metadata": {},
   "source": [
    "### Import du dataset et extraction des années"
   ]
  },
  {
   "cell_type": "code",
   "execution_count": 3,
   "metadata": {},
   "outputs": [
    {
     "name": "stdout",
     "output_type": "stream",
     "text": [
      "[['name', 'team', 'games', 'category', 'desc.', 'year', 'source'], ['F. Davis', 'WAS', 'Indef.', 'Substance abuse, repeated offense', 'Marijuana-related', '2014', 'http://www.cbssports.com/nfl/eye-on-football/24448694/redskins-te-fred-davis-suspended-Indefiniteinitely-by-nfl'], ['J. Blackmon', 'JAX', 'Indef.', 'Substance abuse, repeated offense', '', '2014', 'http://espn.go.com/nfl/story/_/id/11257934/justin-blackmon-jacksonville-jaguars-arrested-marijuana-possession'], ['L. Brazill', 'IND', 'Indef.', 'Substance abuse, repeated offense', '', '2014', 'http://www.nfl.com/news/story/0ap2000000364622/article/lavon-brazill-released-by-colts-in-wake-of-suspension'], ['T. Jackson', 'WAS', 'Indef.', 'Substance abuse, repeated offense', '', '2014', 'http://www.nfl.com/news/story/0ap2000000364087/article/tanard-jackson-suspended-Indefiniteinitely-by-nfl'], ['M. Hapes', 'NYG', 'Indef.', 'Personal conduct', 'Gambling-related', '1946', 'http://espn.go.com/blog/nflnation/tag/_/name/frank-filchock'], ['R. Rice', 'BAL', 'Indef.', 'Personal conduct', 'Domestic violence', '2014', 'http://espn.go.com/new-york/nfl/story/_/id/11489134/baltimore-ravens-cut-ray-rice-new-video-surfaces'], ['F. Filchock', 'NYG', '36', 'Personal conduct', 'Gambling-related', '1947', 'http://espn.go.com/blog/nflnation/tag/_/name/frank-filchock'], ['J. Jolly', 'GB', '32', 'Substance abuse, repeated offense', 'Arrest, felony possession of codeine', '2010', 'http://www.nfl.com/news/story/0ap1000000145928/article/johnny-jolly-reinstated-by-nfl-after-Indefiniteinite-suspension'], ['O. Thurman', 'CIN', '32', 'Substance abuse, repeated offense', '', '2008', 'http://www.nfl.com/news/story/09000d5d80864644/article/bengals-release-reinstated-thurman-after-twoyear-suspension']]\n",
      "[['F. Davis', 'WAS', 'Indef.', 'Substance abuse, repeated offense', 'Marijuana-related', '2014', 'http://www.cbssports.com/nfl/eye-on-football/24448694/redskins-te-fred-davis-suspended-Indefiniteinitely-by-nfl'], ['J. Blackmon', 'JAX', 'Indef.', 'Substance abuse, repeated offense', '', '2014', 'http://espn.go.com/nfl/story/_/id/11257934/justin-blackmon-jacksonville-jaguars-arrested-marijuana-possession'], ['L. Brazill', 'IND', 'Indef.', 'Substance abuse, repeated offense', '', '2014', 'http://www.nfl.com/news/story/0ap2000000364622/article/lavon-brazill-released-by-colts-in-wake-of-suspension'], ['T. Jackson', 'WAS', 'Indef.', 'Substance abuse, repeated offense', '', '2014', 'http://www.nfl.com/news/story/0ap2000000364087/article/tanard-jackson-suspended-Indefiniteinitely-by-nfl'], ['M. Hapes', 'NYG', 'Indef.', 'Personal conduct', 'Gambling-related', '1946', 'http://espn.go.com/blog/nflnation/tag/_/name/frank-filchock'], ['R. Rice', 'BAL', 'Indef.', 'Personal conduct', 'Domestic violence', '2014', 'http://espn.go.com/new-york/nfl/story/_/id/11489134/baltimore-ravens-cut-ray-rice-new-video-surfaces'], ['F. Filchock', 'NYG', '36', 'Personal conduct', 'Gambling-related', '1947', 'http://espn.go.com/blog/nflnation/tag/_/name/frank-filchock'], ['J. Jolly', 'GB', '32', 'Substance abuse, repeated offense', 'Arrest, felony possession of codeine', '2010', 'http://www.nfl.com/news/story/0ap1000000145928/article/johnny-jolly-reinstated-by-nfl-after-Indefiniteinite-suspension'], ['O. Thurman', 'CIN', '32', 'Substance abuse, repeated offense', '', '2008', 'http://www.nfl.com/news/story/09000d5d80864644/article/bengals-release-reinstated-thurman-after-twoyear-suspension'], ['A. Jones', 'TEN', '20', 'Personal conduct', 'Multiple arrests', '2007', 'http://sports.espn.go.com/nfl/news/story?id=2832015']]\n"
     ]
    },
    {
     "data": {
      "text/plain": [
       "{'2014': 29,\n",
       " '1946': 1,\n",
       " '1947': 1,\n",
       " '2010': 21,\n",
       " '2008': 10,\n",
       " '2007': 17,\n",
       " '1983': 1,\n",
       " '2009': 10,\n",
       " '2005': 8,\n",
       " '2000': 1,\n",
       " '2012': 45,\n",
       " '2001': 3,\n",
       " '2006': 11,\n",
       " '1989': 17,\n",
       " '   ': 1,\n",
       " '1963': 1,\n",
       " '2013': 40,\n",
       " '1990': 3,\n",
       " '2011': 13,\n",
       " '2004': 6,\n",
       " '2002': 7,\n",
       " '2003': 9,\n",
       " '1997': 3,\n",
       " '1999': 5,\n",
       " '1993': 1,\n",
       " '1995': 1,\n",
       " '1998': 2,\n",
       " '1994': 1,\n",
       " '1986': 1}"
      ]
     },
     "execution_count": 3,
     "metadata": {},
     "output_type": "execute_result"
    }
   ],
   "source": [
    "import csv\n",
    "\n",
    "f = open('nfl-suspensions-data.csv')\n",
    "nfl_suspensions = list(csv.reader(f))\n",
    "\n",
    "print(nfl_suspensions[:10])\n",
    "\n",
    "nfl_suspensions = nfl_suspensions[1:]\n",
    "\n",
    "print(nfl_suspensions[:10])\n",
    "\n",
    "years = {}\n",
    "for row in nfl_suspensions:\n",
    "    year = row[5]\n",
    "    if year in years:\n",
    "        years[year] += 1\n",
    "    else:\n",
    "        years[year] = 1\n",
    "        \n",
    "years"
   ]
  },
  {
   "cell_type": "markdown",
   "metadata": {},
   "source": [
    "### Valeurs Uniques"
   ]
  },
  {
   "cell_type": "code",
   "execution_count": 5,
   "metadata": {},
   "outputs": [
    {
     "name": "stdout",
     "output_type": "stream",
     "text": [
      "['SF', 'CHI', 'NYG', 'CIN', 'BUF', 'OAK', 'HOU', 'DET', 'NO', 'FREE', 'CAR', 'STL', 'SEA', 'BAL', 'ATL', 'IND', 'TEN', 'CLE', 'LA', 'MIN', 'PHI', 'GB', 'MIA', 'JAX', 'NE', 'SD', 'TB', 'DAL', 'PIT', 'ARI', 'DEN', 'WAS', 'KC', 'NYJ']\n",
      "['36', '32', '20', '1', '3', '8', '6', 'Indef.', '16', '10', '2', '14', '5', '4']\n"
     ]
    }
   ],
   "source": [
    "unique_teams = list(set([row[1] for row in nfl_suspensions]))\n",
    "unique_games = list(set([row[2] for row in nfl_suspensions]))\n",
    "print(unique_teams)\n",
    "print(unique_games)"
   ]
  },
  {
   "cell_type": "markdown",
   "metadata": {},
   "source": [
    "### Classe Suspension"
   ]
  },
  {
   "cell_type": "code",
   "execution_count": 14,
   "metadata": {},
   "outputs": [
    {
     "name": "stdout",
     "output_type": "stream",
     "text": [
      "L. Brazill 2014\n"
     ]
    }
   ],
   "source": [
    "class Suspension():\n",
    "    \n",
    "    def __init__(self, row):\n",
    "        self.name, self.team, self.games, *other, self.year, self.src = row\n",
    "        \n",
    "brazil = Suspension(nfl_suspensions[2])\n",
    "print(brazil.name, brazil.year)"
   ]
  },
  {
   "cell_type": "markdown",
   "metadata": {},
   "source": [
    "### Pimp my class !"
   ]
  },
  {
   "cell_type": "code",
   "execution_count": 21,
   "metadata": {},
   "outputs": [
    {
     "name": "stdout",
     "output_type": "stream",
     "text": [
      "0\n",
      "2006\n"
     ]
    }
   ],
   "source": [
    "class Suspension():\n",
    "    \n",
    "    def __init__(self, row):\n",
    "        self.name, self.team, self.games, *other, year, src = row\n",
    "        try:\n",
    "            self.year = int(year)\n",
    "        except Exception:\n",
    "            self.year = 0\n",
    "    \n",
    "    def get_year(self):\n",
    "        return(self.year)\n",
    "    \n",
    "missing_year = Suspension(nfl_suspensions[22])\n",
    "print(missing_year.get_year())\n",
    "\n",
    "not_missing_year = Suspension(nfl_suspensions[21])\n",
    "print(not_missing_year.get_year())"
   ]
  }
 ],
 "metadata": {
  "kernelspec": {
   "display_name": "Python 3",
   "language": "python",
   "name": "python3"
  },
  "language_info": {
   "codemirror_mode": {
    "name": "ipython",
    "version": 3
   },
   "file_extension": ".py",
   "mimetype": "text/x-python",
   "name": "python",
   "nbconvert_exporter": "python",
   "pygments_lexer": "ipython3",
   "version": "3.6.8"
  }
 },
 "nbformat": 4,
 "nbformat_minor": 2
}
