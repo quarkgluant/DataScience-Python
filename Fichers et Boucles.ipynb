{
 "cells": [
  {
   "cell_type": "markdown",
   "metadata": {},
   "source": [
    "# Python\n",
    "## Cours Udemy Datascience & Python\n",
    "### Fichiers et Boucles"
   ]
  },
  {
   "cell_type": "markdown",
   "metadata": {},
   "source": [
    "### Training"
   ]
  },
  {
   "cell_type": "code",
   "execution_count": 2,
   "metadata": {},
   "outputs": [
    {
     "name": "stdout",
     "output_type": "stream",
     "text": [
      "Ain,643309\n",
      "Aisne,554040\n",
      "Allier,353262\n",
      "Alpes-de-Haute-Provence,166298\n",
      "Alpes-Maritimes,1098785\n",
      "Ardèche,332051\n",
      "Ardennes,287775\n",
      "Ariège,158076\n",
      "Aube,316098\n",
      "Aude,375065\n",
      "Aveyron,289901\n",
      "Bas-Rhin,1131812\n",
      "Bouches-du-Rhône,2035475\n",
      "Calvados,708407\n",
      "Cantal,152400\n",
      "Charente,366787\n",
      "Charente-Maritime,656046\n",
      "Cher,318590\n",
      "Corrèze,249684\n",
      "Corse-du-Sud,154100\n",
      "Côte-d'Or,545001\n",
      "Côtes-d'Armor,617413\n",
      "Creuse,124948\n",
      "Deux-Sèvres,384655\n",
      "Dordogne,428651\n",
      "Doubs,549155\n",
      "Drôme,514104\n",
      "Essonne,1286908\n",
      "Eure,616076\n",
      "Eure-et-Loir,445083\n",
      "Finistère,935393\n",
      "Gard,752382\n",
      "Gers,197988\n",
      "Gironde,1556663\n",
      "Guadeloupe,406706\n",
      "Guyane,254845\n",
      "Haute-Corse,175499\n",
      "Haute-Garonne,1344579\n",
      "Haute-Loire,234078\n",
      "Haute-Marne,186698\n",
      "Hautes-Alpes,145213\n",
      "Haute-Saône,246022\n",
      "Haute-Savoie,806447\n",
      "Hautes-Pyrénées,236577\n",
      "Haute-Vienne,384708\n",
      "Haut-Rhin,775941\n",
      "Hauts-de-Seine,1617484\n",
      "Hérault,1127333\n",
      "Ille-et-Vilaine,1060051\n",
      "Indre,232802\n",
      "Indre-et-Loire,619004\n",
      "Isère,1271938\n",
      "Jura,270826\n",
      "La Réunion,541487\n",
      "Landes,414090\n",
      "Loire,774262\n",
      "Loire-Atlantique,1382766\n",
      "Loiret,688098\n",
      "Loir-et-Cher,344121\n",
      "Lot,180016\n",
      "Lot-et-Garonne,343198\n",
      "Lozère,80423\n",
      "Maine-et-Loire,829156\n",
      "Manche,518322\n",
      "Marne,584297\n",
      "Martinique,390252\n",
      "Mayenne,317716\n",
      "Meurthe-et-Moselle,746687\n",
      "Meuse,197763\n",
      "Morbihan,764338\n",
      "Moselle,1065894\n",
      "Nièvre,221048\n",
      "Nord,2640622\n",
      "Oise,838646\n",
      "Orne,297109\n",
      "Paris,2243739\n",
      "Pas-de-Calais,1497668\n",
      "Puy-de-Dôme,661248\n",
      "Pyrénées-Atlantiques,688451\n",
      "Pyrénées-Orientales,474842\n",
      "Rhône,1833002\n",
      "Saône-et-Loire,574229\n",
      "Sarthe,583961\n",
      "Savoie,440777\n",
      "Seine-et-Marne,1400477\n",
      "Seine-Maritime,1284107\n",
      "Seine-Saint-Denis,1582139\n",
      "Somme,583641\n",
      "Tarn,396341\n",
      "Tarn-et-Garonne,258696\n",
      "Territoire de Belfort,147647\n",
      "Val-de-Marne,1377511\n",
      "Val-d'Oise,1221946\n",
      "Var,1055745\n",
      "Vaucluse,566592\n",
      "Vendée,681469\n",
      "Vienne,444347\n",
      "Vosges,386978\n",
      "Yonne,352433\n",
      "Yvelines,1449398\n"
     ]
    }
   ],
   "source": [
    "file = open(\"departements-fr.csv\", \"r\", encoding='ISO-8859-1')\n",
    "data = file.read()\n",
    "print(data)"
   ]
  },
  {
   "cell_type": "markdown",
   "metadata": {},
   "source": [
    "#### Juste un petit extra pour trouver le fichier"
   ]
  },
  {
   "cell_type": "code",
   "execution_count": 2,
   "metadata": {},
   "outputs": [
    {
     "data": {
      "text/plain": [
       "['Mon premier notebook.ipynb',\n",
       " '.ipynb_checkpoints',\n",
       " 'Fichers et Boucles.ipynb',\n",
       " 'departements-fr.csv']"
      ]
     },
     "execution_count": 2,
     "metadata": {},
     "output_type": "execute_result"
    }
   ],
   "source": [
    "import os\n",
    "os.listdir(\".\")"
   ]
  },
  {
   "cell_type": "markdown",
   "metadata": {},
   "source": [
    "### Training\n",
    "#### Utilisation de split"
   ]
  },
  {
   "cell_type": "code",
   "execution_count": 3,
   "metadata": {},
   "outputs": [
    {
     "name": "stdout",
     "output_type": "stream",
     "text": [
      "['Ain,643309', 'Aisne,554040', 'Allier,353262', 'Alpes-de-Haute-Provence,166298', 'Alpes-Maritimes,1098785']\n"
     ]
    }
   ],
   "source": [
    "# split\n",
    "rows = data.split('\\n')\n",
    "print(rows[:5])"
   ]
  },
  {
   "cell_type": "markdown",
   "metadata": {},
   "source": [
    "### Training\n",
    "#### boucles FOR"
   ]
  },
  {
   "cell_type": "code",
   "execution_count": 4,
   "metadata": {},
   "outputs": [
    {
     "name": "stdout",
     "output_type": "stream",
     "text": [
      "Ain,643309\n",
      "Aisne,554040\n",
      "Allier,353262\n",
      "Alpes-de-Haute-Provence,166298\n",
      "Alpes-Maritimes,1098785\n",
      "Ardèche,332051\n",
      "Ardennes,287775\n",
      "Ariège,158076\n",
      "Aube,316098\n",
      "Aude,375065\n"
     ]
    }
   ],
   "source": [
    "ten_rows = rows[:10]\n",
    "for row in ten_rows:\n",
    "    print(row)"
   ]
  },
  {
   "cell_type": "markdown",
   "metadata": {},
   "source": [
    "### Training\n",
    "#### Liste de liste"
   ]
  },
  {
   "cell_type": "code",
   "execution_count": 5,
   "metadata": {},
   "outputs": [
    {
     "name": "stdout",
     "output_type": "stream",
     "text": [
      "[['Ain', '643309'], ['Aisne', '554040'], ['Allier', '353262'], ['Alpes-de-Haute-Provence', '166298'], ['Alpes-Maritimes', '1098785']]\n"
     ]
    }
   ],
   "source": [
    "final_data = []\n",
    "for row in rows:\n",
    "    final_data.append(row.split(','))\n",
    "print(final_data[:5])"
   ]
  },
  {
   "cell_type": "code",
   "execution_count": 6,
   "metadata": {},
   "outputs": [
    {
     "name": "stdout",
     "output_type": "stream",
     "text": [
      "Ain\n"
     ]
    }
   ],
   "source": [
    "print(final_data[0][0])"
   ]
  },
  {
   "cell_type": "markdown",
   "metadata": {},
   "source": [
    "### Training"
   ]
  },
  {
   "cell_type": "code",
   "execution_count": 7,
   "metadata": {},
   "outputs": [
    {
     "name": "stdout",
     "output_type": "stream",
     "text": [
      "['Ain', 'Aisne', 'Allier', 'Alpes-de-Haute-Provence', 'Alpes-Maritimes']\n"
     ]
    }
   ],
   "source": [
    "departments_list = []\n",
    "for liste in final_data:\n",
    "    departments_list.append(liste[0])\n",
    "print(departments_list[:5])"
   ]
  },
  {
   "cell_type": "markdown",
   "metadata": {},
   "source": []
  }
 ],
 "metadata": {
  "kernelspec": {
   "display_name": "Python 3",
   "language": "python",
   "name": "python3"
  },
  "language_info": {
   "codemirror_mode": {
    "name": "ipython",
    "version": 3
   },
   "file_extension": ".py",
   "mimetype": "text/x-python",
   "name": "python",
   "nbconvert_exporter": "python",
   "pygments_lexer": "ipython3",
   "version": "3.6.8"
  }
 },
 "nbformat": 4,
 "nbformat_minor": 2
}
