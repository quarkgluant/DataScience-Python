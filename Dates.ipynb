{
 "cells": [
  {
   "cell_type": "markdown",
   "metadata": {},
   "source": [
    "## Python et les dates\n",
    "### Le module Time"
   ]
  },
  {
   "cell_type": "code",
   "execution_count": 1,
   "metadata": {},
   "outputs": [
    {
     "name": "stdout",
     "output_type": "stream",
     "text": [
      "1548413106.889612\n"
     ]
    }
   ],
   "source": [
    "# time.time()\n",
    "\n",
    "import time\n",
    "current_time = time.time()\n",
    "print(current_time)"
   ]
  },
  {
   "cell_type": "code",
   "execution_count": 2,
   "metadata": {},
   "outputs": [
    {
     "name": "stdout",
     "output_type": "stream",
     "text": [
      "time.struct_time(tm_year=2019, tm_mon=1, tm_mday=25, tm_hour=10, tm_min=46, tm_sec=19, tm_wday=4, tm_yday=25, tm_isdst=0)\n"
     ]
    }
   ],
   "source": [
    "# time.gmtime()\n",
    "\n",
    "current_struct_time = time.gmtime()\n",
    "print(current_struct_time)"
   ]
  },
  {
   "cell_type": "code",
   "execution_count": 3,
   "metadata": {},
   "outputs": [
    {
     "name": "stdout",
     "output_type": "stream",
     "text": [
      "l'heure est 10\n",
      "l'année est 2019\n"
     ]
    }
   ],
   "source": [
    "current_hour = current_struct_time.tm_hour\n",
    "print(f\"l'heure est {current_hour}\")\n",
    "print(f\"l'année est {current_struct_time.tm_year}\")      "
   ]
  },
  {
   "cell_type": "markdown",
   "metadata": {},
   "source": [
    "### Le module datetime"
   ]
  },
  {
   "cell_type": "code",
   "execution_count": 5,
   "metadata": {},
   "outputs": [
    {
     "name": "stdout",
     "output_type": "stream",
     "text": [
      "2019-01-25 11:52:38.737419\n"
     ]
    }
   ],
   "source": [
    "# datetime.now()\n",
    "\n",
    "import datetime as dt\n",
    "\n",
    "current_datetime = dt.datetime.now()\n",
    "print(current_datetime)"
   ]
  },
  {
   "cell_type": "code",
   "execution_count": 6,
   "metadata": {},
   "outputs": [
    {
     "name": "stdout",
     "output_type": "stream",
     "text": [
      " 25/1/2019 \n"
     ]
    }
   ],
   "source": [
    "current_year = current_datetime.year\n",
    "current_month = current_datetime.month\n",
    "current_day = current_datetime.day\n",
    "print(f\" {current_day}/{current_month}/{current_year} \")"
   ]
  },
  {
   "cell_type": "markdown",
   "metadata": {},
   "source": [
    "### La classe Timedelta (du module datetime)"
   ]
  },
  {
   "cell_type": "code",
   "execution_count": 7,
   "metadata": {},
   "outputs": [
    {
     "name": "stdout",
     "output_type": "stream",
     "text": [
      "aujourd'hui 2019-01-25 11:59:35.165366\n",
      "diff = 12 days, 0:00:00\n"
     ]
    }
   ],
   "source": [
    "today = dt.datetime.now()\n",
    "diff = dt.timedelta(weeks=1, days=5)\n",
    "print(f\"aujourd'hui {today}\")\n",
    "print(f\"diff = {diff}\")"
   ]
  },
  {
   "cell_type": "code",
   "execution_count": 8,
   "metadata": {},
   "outputs": [
    {
     "name": "stdout",
     "output_type": "stream",
     "text": [
      "2019-02-06 11:59:35.165366\n"
     ]
    }
   ],
   "source": [
    "print(f\"dans une semaine et 5 jours nous serons le {today + diff}\")"
   ]
  },
  {
   "cell_type": "code",
   "execution_count": 9,
   "metadata": {},
   "outputs": [
    {
     "name": "stdout",
     "output_type": "stream",
     "text": [
      "demain: 2019-01-26 11:59:35.165366\n"
     ]
    }
   ],
   "source": [
    "tomorrow = today + dt.timedelta(days = 1)\n",
    "print(f\"demain: {tomorrow}\")"
   ]
  },
  {
   "cell_type": "code",
   "execution_count": 10,
   "metadata": {},
   "outputs": [
    {
     "name": "stdout",
     "output_type": "stream",
     "text": [
      "hier 2019-01-24 11:59:35.165366\n"
     ]
    }
   ],
   "source": [
    "print(f\"hier {today - dt.timedelta(days = 1)}\")"
   ]
  },
  {
   "cell_type": "markdown",
   "metadata": {},
   "source": [
    "### Formater nos dates"
   ]
  },
  {
   "cell_type": "code",
   "execution_count": 11,
   "metadata": {},
   "outputs": [
    {
     "data": {
      "text/plain": [
       "datetime.datetime(2019, 1, 25, 11, 59, 35, 165366)"
      ]
     },
     "execution_count": 11,
     "metadata": {},
     "output_type": "execute_result"
    }
   ],
   "source": [
    "today"
   ]
  },
  {
   "cell_type": "code",
   "execution_count": 13,
   "metadata": {},
   "outputs": [
    {
     "data": {
      "text/plain": [
       "'Jan 25 2019'"
      ]
     },
     "execution_count": 13,
     "metadata": {},
     "output_type": "execute_result"
    }
   ],
   "source": [
    "# datetime.strftime(chaîne de formatage)\n",
    "\n",
    "string_today = today.strftime(\"%b %d %Y\")\n",
    "string_today"
   ]
  },
  {
   "cell_type": "code",
   "execution_count": 15,
   "metadata": {},
   "outputs": [
    {
     "data": {
      "text/plain": [
       "time.struct_time(tm_year=2019, tm_mon=1, tm_mday=25, tm_hour=0, tm_min=0, tm_sec=0, tm_wday=4, tm_yday=25, tm_isdst=-1)"
      ]
     },
     "execution_count": 15,
     "metadata": {},
     "output_type": "execute_result"
    }
   ],
   "source": [
    "# datetime.strptime(chaîne) est l'équivalent de strftime mais sur une chaîne, renvoir une structure time à\n",
    "# partir d'une chaîne et d'une chaîne de formatage\n",
    "\n",
    "today_struct = time.strptime(string_today, \"%b %d %Y\")\n",
    "today_struct"
   ]
  },
  {
   "cell_type": "markdown",
   "metadata": {},
   "source": [
    "### Les dates sur notre dataset"
   ]
  },
  {
   "cell_type": "code",
   "execution_count": 17,
   "metadata": {},
   "outputs": [
    {
     "data": {
      "text/plain": [
       "[['What\\'s your internet \"white whale\", something you\\'ve been searching for years to find with no luck?',\n",
       "  '11510',\n",
       "  '1433213314.0',\n",
       "  '1',\n",
       "  '26195'],\n",
       " [\"What's your favorite video that is 10 seconds or less?\",\n",
       "  '8656',\n",
       "  '1434205517.0',\n",
       "  '4',\n",
       "  '8479'],\n",
       " ['What are some interesting tests you can take to find out about yourself?',\n",
       "  '8480',\n",
       "  '1443409636.0',\n",
       "  '1',\n",
       "  '4055'],\n",
       " [\"PhD's of Reddit. What is a dumbed down summary of your thesis?\",\n",
       "  '7927',\n",
       "  '1440188623.0',\n",
       "  '0',\n",
       "  '13201'],\n",
       " ['What is cool to be good at, yet uncool to be REALLY good at?',\n",
       "  '7711',\n",
       "  '1440082910.0',\n",
       "  '0',\n",
       "  '20325']]"
      ]
     },
     "execution_count": 17,
     "metadata": {},
     "output_type": "execute_result"
    }
   ],
   "source": [
    "import csv\n",
    "\n",
    "f = open('askreddit-2015.csv', 'r', encoding='utf_8')\n",
    "posts = list(csv.reader(f))\n",
    "posts = posts[1:]\n",
    "\n",
    "posts[:5]"
   ]
  },
  {
   "cell_type": "code",
   "execution_count": 21,
   "metadata": {},
   "outputs": [
    {
     "name": "stdout",
     "output_type": "stream",
     "text": [
      "temps en second Unix: 1433213314.0\n",
      "date: 2015-06-02 04:48:34\n"
     ]
    }
   ],
   "source": [
    "# datetime.fromtimestamp()\n",
    " print(f\"temps en second Unix: {posts[0][2]}\")\n",
    " print(f\"date: {dt.datetime.fromtimestamp(float(posts[0][2]))}\")\n"
   ]
  },
  {
   "cell_type": "code",
   "execution_count": 22,
   "metadata": {},
   "outputs": [
    {
     "name": "stdout",
     "output_type": "stream",
     "text": [
      "[['What\\'s your internet \"white whale\", something you\\'ve been searching for years to find with no luck?', '11510', datetime.datetime(2015, 6, 2, 4, 48, 34), '1', '26195'], [\"What's your favorite video that is 10 seconds or less?\", '8656', datetime.datetime(2015, 6, 13, 16, 25, 17), '4', '8479'], ['What are some interesting tests you can take to find out about yourself?', '8480', datetime.datetime(2015, 9, 28, 5, 7, 16), '1', '4055'], [\"PhD's of Reddit. What is a dumbed down summary of your thesis?\", '7927', datetime.datetime(2015, 8, 21, 22, 23, 43), '0', '13201'], ['What is cool to be good at, yet uncool to be REALLY good at?', '7711', datetime.datetime(2015, 8, 20, 17, 1, 50), '0', '20325']]\n"
     ]
    }
   ],
   "source": [
    "for post in posts:\n",
    "    time = post[2]\n",
    "    post[2] = dt.datetime.fromtimestamp(float(time))\n",
    "    \n",
    "print(posts[:5])"
   ]
  },
  {
   "cell_type": "markdown",
   "metadata": {},
   "source": [
    "### Comptons les posts publiés au mois de mai"
   ]
  },
  {
   "cell_type": "code",
   "execution_count": 24,
   "metadata": {},
   "outputs": [
    {
     "name": "stdout",
     "output_type": "stream",
     "text": [
      "le nombre de posts publiés en mai est 75\n"
     ]
    }
   ],
   "source": [
    "may_count = 0\n",
    "for post in posts:\n",
    "    date_time = post[2]\n",
    "    if date_time.month == 5:\n",
    "        may_count += 1\n",
    "\n",
    "print(f\"le nombre de posts publiés en mai est {may_count}\")"
   ]
  },
  {
   "cell_type": "markdown",
   "metadata": {},
   "source": [
    "### Comptons les posts publiés n'importe quel mois"
   ]
  },
  {
   "cell_type": "code",
   "execution_count": 25,
   "metadata": {},
   "outputs": [
    {
     "name": "stdout",
     "output_type": "stream",
     "text": [
      "le nombre de posts publiés en mai est 75\n"
     ]
    }
   ],
   "source": [
    "def number_posts_per_month(mois):\n",
    "    month_count = 0\n",
    "    for post in posts:\n",
    "        date_time = post[2]\n",
    "        if date_time.month == mois:\n",
    "            month_count += 1\n",
    "    return(month_count)\n",
    "\n",
    "print(f\"le nombre de posts publiés en mai est {number_posts_per_month(5)}\")"
   ]
  },
  {
   "cell_type": "code",
   "execution_count": 33,
   "metadata": {},
   "outputs": [
    {
     "name": "stdout",
     "output_type": "stream",
     "text": [
      "le nombre de posts publiés en Jan est 52\n",
      "le nombre de posts publiés en Feb est 46\n",
      "le nombre de posts publiés en Mar est 59\n",
      "le nombre de posts publiés en Apr est 58\n",
      "le nombre de posts publiés en May est 75\n",
      "le nombre de posts publiés en Jun est 74\n",
      "le nombre de posts publiés en Jul est 77\n",
      "le nombre de posts publiés en Aug est 94\n",
      "le nombre de posts publiés en Sep est 69\n",
      "le nombre de posts publiés en Oct est 78\n",
      "le nombre de posts publiés en Nov est 96\n",
      "le nombre de posts publiés en Dec est 89\n"
     ]
    }
   ],
   "source": [
    "for i in range(1,13):\n",
    "    print(f\"le nombre de posts publiés en {dt.date(1900, i, 1).strftime('%b')} est {number_posts_per_month(i)}\")"
   ]
  }
 ],
 "metadata": {
  "kernelspec": {
   "display_name": "Python 3",
   "language": "python",
   "name": "python3"
  },
  "language_info": {
   "codemirror_mode": {
    "name": "ipython",
    "version": 3
   },
   "file_extension": ".py",
   "mimetype": "text/x-python",
   "name": "python",
   "nbconvert_exporter": "python",
   "pygments_lexer": "ipython3",
   "version": "3.6.8"
  }
 },
 "nbformat": 4,
 "nbformat_minor": 2
}
