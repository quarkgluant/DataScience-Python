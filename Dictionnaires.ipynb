{
 "cells": [
  {
   "cell_type": "markdown",
   "metadata": {},
   "source": [
    "### Training"
   ]
  },
  {
   "cell_type": "code",
   "execution_count": 1,
   "metadata": {
    "scrolled": true
   },
   "outputs": [
    {
     "name": "stdout",
     "output_type": "stream",
     "text": [
      "['Mercure', 'Jupiter', 'Saturne', 'Neptune', 'Uranus']\n",
      "['Vénus', 'Terre', 'Mars']\n"
     ]
    }
   ],
   "source": [
    "planets_names = [\"Mercure\", \"Vénus\", \"Terre\", \"Mars\", \"Jupiter\", \"Saturne\", \"Neptune\", \"Uranus\"]\n",
    "long_names = []\n",
    "short_names = []\n",
    "for planet in planets_names:\n",
    "    if len(planet) > 5:\n",
    "        long_names.append(planet)\n",
    "    else:\n",
    "        short_names.append(planet)\n",
    "        \n",
    "print(long_names)\n",
    "print(short_names)"
   ]
  },
  {
   "cell_type": "markdown",
   "metadata": {},
   "source": [
    "### Compter les élèments d'une liste et présenter les résultats dans un dictionnaire"
   ]
  },
  {
   "cell_type": "code",
   "execution_count": 4,
   "metadata": {},
   "outputs": [
    {
     "name": "stdout",
     "output_type": "stream",
     "text": [
      "{'Soleil': 210, 'Pluie': 25, 'Nuage': 125, 'Nuage-Pluie': 4, 'Orage': 1}\n"
     ]
    }
   ],
   "source": [
    "weather_data = []\n",
    "\n",
    "f = open(\"madrid-weather-2016.csv\", 'r')\n",
    "data = f.read()\n",
    "rows = data.split('\\n')\n",
    "for row in rows:\n",
    "    split_row = row.split(',')\n",
    "    weather_data.append(split_row)\n",
    "     \n",
    "new_weather = weather_data[1:366]\n",
    "weather = []\n",
    "for row in new_weather:\n",
    "    weather.append(row[1])\n",
    "\n",
    "weather_counts = {}\n",
    "for meteo in weather:\n",
    "    if meteo in weather_counts:\n",
    "        weather_counts[meteo] += 1\n",
    "    else:\n",
    "        weather_counts[meteo] = 1\n",
    "    \n",
    "print(weather_counts)  "
   ]
  }
 ],
 "metadata": {
  "kernelspec": {
   "display_name": "Python 3",
   "language": "python",
   "name": "python3"
  },
  "language_info": {
   "codemirror_mode": {
    "name": "ipython",
    "version": 3
   },
   "file_extension": ".py",
   "mimetype": "text/x-python",
   "name": "python",
   "nbconvert_exporter": "python",
   "pygments_lexer": "ipython3",
   "version": "3.6.8"
  }
 },
 "nbformat": 4,
 "nbformat_minor": 2
}
